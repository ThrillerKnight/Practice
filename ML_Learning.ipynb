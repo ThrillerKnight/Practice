{
 "cells": [
  {
   "cell_type": "code",
   "execution_count": 6,
   "metadata": {},
   "outputs": [
    {
     "name": "stdout",
     "output_type": "stream",
     "text": [
      "Choose the conversion type:\n",
      "1. Celsius to Fahrenheit\n",
      "2. Celsius to Kelvin\n",
      "3. Fahrenheit to Celsius\n",
      "4. Fahrenheit to Kelvin\n",
      "5. Kelvin to Celsius\n",
      "6. Kelvin to Fahrenheit\n",
      "150.0 Fahrenheit is 338.7055555555555 Kelvin.\n"
     ]
    }
   ],
   "source": [
    "# Temperature Converter\n",
    "# This project allows you to convert temperatures between Celsius, Fahrenheit, and Kelvin. \n",
    "\n",
    "# Convert Celsius to Fahrenheit\n",
    "def c_to_f(celsius):\n",
    "    return (celsius * 9/5) + 32\n",
    "\n",
    "# Convert Celsius to Kelvin\n",
    "def c_to_k(celsius):\n",
    "    return celsius + 273.15\n",
    "\n",
    "# Convert Fahrenheit to Celsius\n",
    "def f_to_c(fahrenheit):\n",
    "    return (fahrenheit - 32) * 5/9\n",
    "\n",
    "# Convert Fahrenheit to kelvin\n",
    "def f_to_k(fahrenheit):\n",
    "    return (fahrenheit - 32) * 5/9 + 273.15\n",
    "\n",
    "# Convert Kelvin to Celsius\n",
    "def k_to_c(kelvin):\n",
    "    return kelvin - 273.15\n",
    "\n",
    "# Convert Kelvin to Fahrenheit\n",
    "def k_to_f(kelvin):\n",
    "    return (kelvin - 273.15) * 9/5 + 32\n",
    "\n",
    "# User input for the temperature value and the conversion type\n",
    "temp = float(input(\"Enter the temperature you want to convert: \"))\n",
    "print(\"Choose the conversion type:\")\n",
    "print(\"1. Celsius to Fahrenheit\")\n",
    "print(\"2. Celsius to Kelvin\")\n",
    "print(\"3. Fahrenheit to Celsius\")\n",
    "print(\"4. Fahrenheit to Kelvin\")\n",
    "print(\"5. Kelvin to Celsius\")\n",
    "print(\"6. Kelvin to Fahrenheit\")\n",
    "choice = int(input(\"Enter your choice (1-6): \"))\n",
    "\n",
    "# Perform the conversion\n",
    "if choice == 1:\n",
    "    print(f\"{temp} Celsius is {c_to_f(temp)} Fahrenheit.\")\n",
    "elif choice == 2:\n",
    "    print(f\"{temp} Celsius is {c_to_k(temp)} Kelvin.\")\n",
    "elif choice == 3:\n",
    "    print(f\"{temp} Fahrenheit is {f_to_c(temp)} Celsius.\")\n",
    "elif choice == 4:\n",
    "    print(f\"{temp} Fahrenheit is {f_to_k(temp)} Kelvin.\")\n",
    "elif choice == 5:\n",
    "    print(f\"{temp} Kelvin is {k_to_c(temp)} Celsius.\")\n",
    "elif choice == 6:\n",
    "    print(f\"{temp} Kelvin is {k_to_f(temp)} Fahrenheit.\")\n",
    "else:\n",
    "    print(\"Invalid choice. Please select a number between 1 and 6.\")"
   ]
  }
 ],
 "metadata": {
  "kernelspec": {
   "display_name": "Python 3",
   "language": "python",
   "name": "python3"
  },
  "language_info": {
   "codemirror_mode": {
    "name": "ipython",
    "version": 3
   },
   "file_extension": ".py",
   "mimetype": "text/x-python",
   "name": "python",
   "nbconvert_exporter": "python",
   "pygments_lexer": "ipython3",
   "version": "3.12.4"
  }
 },
 "nbformat": 4,
 "nbformat_minor": 2
}
